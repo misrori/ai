{
  "cells": [
    {
      "cell_type": "markdown",
      "metadata": {
        "id": "view-in-github",
        "colab_type": "text"
      },
      "source": [
        "<a href=\"https://colab.research.google.com/github/misrori/ai/blob/main/kep_generalas_uj_promtok.ipynb\" target=\"_parent\"><img src=\"https://colab.research.google.com/assets/colab-badge.svg\" alt=\"Open In Colab\"/></a>"
      ]
    },
    {
      "cell_type": "code",
      "source": [
        "import os\n",
        "from google.colab import drive\n",
        "drive.mount('/content/drive')\n",
        "\n",
        "\n",
        "if os.path.exists(\"/content/drive/MyDrive/ai_kepek\") == False:\n",
        "    !mkdir /content/drive/MyDrive/ai_kepek\n",
        "\n",
        "#@markdown A neved az ugyanaz mint a képeknél amit feltöltöttél\n",
        "\n",
        "# ahogy elnevezted a képeket, a zárojel előtt\n",
        "neved='kepekneve' #@param{type: 'string'}\n",
        "\n",
        "#@markdown A model neve az amit a hugging facen van a profilodban\n",
        "# ami a hugingfacen van usernev/modelnev\n",
        "modeled_neve = 'usernev/kepekneve' #@param{type: 'string'}\n",
        "\n",
        "!nvidia-smi\n",
        "!pip install diffusers\n",
        "!pip install transformers scipy ftfy accelerate\n",
        "\n",
        "import random\n",
        "import string\n",
        "\n",
        "\n",
        "from PIL import Image\n",
        "def image_grid(imgs, rows, cols):\n",
        "    assert len(imgs) == rows*cols\n",
        "\n",
        "    w, h = imgs[0].size\n",
        "    grid = Image.new('RGB', size=(cols*w, rows*h))\n",
        "    grid_w, grid_h = grid.size\n",
        "\n",
        "    for i, img in enumerate(imgs):\n",
        "        grid.paste(img, box=(i%cols*w, i//cols*h))\n",
        "    return grid\n",
        "\n",
        "\n",
        "from diffusers import DiffusionPipeline\n",
        "import torch\n",
        "pipeline = DiffusionPipeline.from_pretrained( modeled_neve, torch_dtype=torch.float16)\n",
        "\n",
        "pipeline.to(\"cuda\")\n",
        "\n",
        "\n",
        "\n",
        "import pandas as pd\n",
        "import random\n",
        "\n",
        "df = pd.read_csv('https://raw.githubusercontent.com/misrori/ai/main/promts_v2%20.tsv', sep='\\t')\n",
        "df['Style'] = df['Style'].str.lower().str.replace(' ','_')\n",
        "df['Prompt'] = df['Prompt'].str.replace('{name}',neved )\n",
        "\n",
        "kep_id = 1\n",
        "for index, row in df.iterrows():\n",
        "\n",
        "    imgs = pipeline(row['Prompt'], height = 560, width=560, num_images_per_prompt = 4 ).images\n",
        "\n",
        "    for img in imgs:\n",
        "      img.save(f\"/content/drive/MyDrive/ai_kepek/{row['Style']}_{kep_id}.png\")\n",
        "      kep_id+=1\n",
        "\n",
        "\n",
        "os.system(f\"ffmpeg -framerate 10 -pattern_type glob -i '/content/drive/MyDrive/ai_kepek/*.png' -c:v libx264 -pix_fmt yuv420p /content/drive/MyDrive/ai_kepek/video.mp4\")\n"
      ],
      "metadata": {
        "id": "05uhNCofinxm",
        "cellView": "form"
      },
      "execution_count": null,
      "outputs": []
    },
    {
      "cell_type": "code",
      "source": [],
      "metadata": {
        "id": "cFMln29UktY3"
      },
      "execution_count": null,
      "outputs": []
    }
  ],
  "metadata": {
    "accelerator": "GPU",
    "colab": {
      "provenance": [],
      "include_colab_link": true
    },
    "gpuClass": "standard",
    "kernelspec": {
      "display_name": "Python 3 (ipykernel)",
      "language": "python",
      "name": "python3"
    },
    "language_info": {
      "codemirror_mode": {
        "name": "ipython",
        "version": 3
      },
      "file_extension": ".py",
      "mimetype": "text/x-python",
      "name": "python",
      "nbconvert_exporter": "python",
      "pygments_lexer": "ipython3",
      "version": "3.9.12"
    },
    "toc": {
      "base_numbering": 1,
      "nav_menu": {},
      "number_sections": true,
      "sideBar": true,
      "skip_h1_title": false,
      "title_cell": "Table of Contents",
      "title_sidebar": "Contents",
      "toc_cell": false,
      "toc_position": {},
      "toc_section_display": true,
      "toc_window_display": false
    }
  },
  "nbformat": 4,
  "nbformat_minor": 0
}