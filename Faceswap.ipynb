{
  "cells": [
    {
      "cell_type": "markdown",
      "metadata": {
        "id": "view-in-github",
        "colab_type": "text"
      },
      "source": [
        "<a href=\"https://colab.research.google.com/github/misrori/ai/blob/main/Faceswap.ipynb\" target=\"_parent\"><img src=\"https://colab.research.google.com/assets/colab-badge.svg\" alt=\"Open In Colab\"/></a>"
      ]
    },
    {
      "cell_type": "code",
      "execution_count": 2,
      "metadata": {
        "colab": {
          "base_uri": "https://localhost:8080/"
        },
        "id": "ZlrnUA3i3gMB",
        "outputId": "c77ddbba-4d4b-4e3d-912f-e0602c4b9bec"
      },
      "outputs": [
        {
          "output_type": "stream",
          "name": "stdout",
          "text": [
            "Cloning into '2p8952m3'...\n",
            "warning: redirecting to https://github.com/facefusion/facefusion.git/\n",
            "remote: Enumerating objects: 608, done.\u001b[K\n",
            "remote: Counting objects: 100% (165/165), done.\u001b[K\n",
            "remote: Compressing objects: 100% (38/38), done.\u001b[K\n",
            "remote: Total 608 (delta 137), reused 127 (delta 127), pack-reused 443\u001b[K\n",
            "Receiving objects: 100% (608/608), 8.92 MiB | 25.09 MiB/s, done.\n",
            "Resolving deltas: 100% (363/363), done.\n",
            "Note: switching to '3e93f99eeb3f438dc416b1d82d91db742e791442'.\n",
            "\n",
            "You are in 'detached HEAD' state. You can look around, make experimental\n",
            "changes and commit them, and you can discard any commits you make in this\n",
            "state without impacting any branches by switching back to a branch.\n",
            "\n",
            "If you want to create a new branch to retain commits you create, you may\n",
            "do so (now or later) by using -c with the switch command. Example:\n",
            "\n",
            "  git switch -c <new-branch-name>\n",
            "\n",
            "Or undo this operation with:\n",
            "\n",
            "  git switch -\n",
            "\n",
            "Turn off this advice by setting config variable advice.detachedHead to false\n",
            "\n",
            "/content/2p8952m3\n",
            "\u001b[2K     \u001b[90m━━━━━━━━━━━━━━━━━━━━━━━━━━━━━━━━━━━━━━━━\u001b[0m \u001b[32m58.4/58.4 kB\u001b[0m \u001b[31m999.9 kB/s\u001b[0m eta \u001b[36m0:00:00\u001b[0m\n",
            "\u001b[?25hTraceback (most recent call last):\n",
            "  File \"/usr/lib/python3.10/subprocess.py\", line 1209, in wait\n",
            "    return self._wait(timeout=timeout)\n",
            "  File \"/usr/lib/python3.10/subprocess.py\", line 1959, in _wait\n",
            "    (pid, sts) = self._try_wait(0)\n",
            "  File \"/usr/lib/python3.10/subprocess.py\", line 1917, in _try_wait\n",
            "    (pid, sts) = os.waitpid(self.pid, wait_flags)\n",
            "KeyboardInterrupt\n",
            "\n",
            "During handling of the above exception, another exception occurred:\n",
            "\n",
            "Traceback (most recent call last):\n",
            "  File \"/content/2p8952m3/install.py\", line 3, in <module>\n",
            "    from facefusion import installer\n",
            "  File \"/content/2p8952m3/facefusion/installer.py\", line 9, in <module>\n",
            "    subprocess.call([ 'pip', 'install' , 'inquirer', '-q' ])\n",
            "  File \"/usr/lib/python3.10/subprocess.py\", line 347, in call\n",
            "    return p.wait(timeout=timeout)\n",
            "  File \"/usr/lib/python3.10/subprocess.py\", line 1222, in wait\n",
            "    self._wait(timeout=sigint_timeout)\n",
            "  File \"/usr/lib/python3.10/subprocess.py\", line 1948, in _wait\n",
            "    self._waitpid_lock.release()\n",
            "KeyboardInterrupt\n",
            "^C\n",
            "/root/.ssh/id_rsa already exists.\n",
            "Overwrite (y/n)? # remote.moe:22 SSH-2.0-Go\n",
            "/content/2p8952m3\n",
            "Traceback (most recent call last):\n",
            "  File \"/content/2p8952m3/run.py\", line 3, in <module>\n",
            "    from facefusion import core\n",
            "  File \"/content/2p8952m3/facefusion/core.py\", line 11, in <module>\n",
            "    import onnxruntime\n",
            "ModuleNotFoundError: No module named 'onnxruntime'\n",
            "^C\n"
          ]
        }
      ],
      "source": [
        "#@markdown # Step 1 (6 - 8 Minutes)\n",
        "#@markdown ## Start FaceFusion 2.1.3\n",
        "#@markdown ## Wait for downloading components, Then open the long link that will appear at the end\n",
        "\n",
        "#@markdown # This is the last line: `To create a public link, set share=True in launch()`.\n",
        "#@markdown The link after  this line `http (80)`\n",
        "\n",
        "!git clone http://tinyurl.com/2p8952m3 --branch 2.1.3 --single-branch\n",
        "%cd /content/2p8952m3\n",
        "!python install.py --torch cuda-nightly --onnxruntime cuda-nightly --skip-venv\n",
        "\n",
        "!ssh-keygen -q -t rsa -N '' -f ~/.ssh/id_rsa <<<y\n",
        "!ssh-keyscan -t rsa remote.moe >> ~/.ssh/known_hosts\n",
        "\n",
        "%cd /content/2p8952m3\n",
        "!python run.py --execution-providers cuda & ssh -R 80:localhost:7860 remote.moe"
      ]
    },
    {
      "cell_type": "code",
      "source": [],
      "metadata": {
        "id": "mdeT6vo05miO"
      },
      "execution_count": null,
      "outputs": []
    }
  ],
  "metadata": {
    "accelerator": "GPU",
    "colab": {
      "provenance": [],
      "include_colab_link": true
    },
    "kernelspec": {
      "display_name": "Python",
      "name": "python3"
    },
    "language_info": {
      "name": "python"
    }
  },
  "nbformat": 4,
  "nbformat_minor": 0
}